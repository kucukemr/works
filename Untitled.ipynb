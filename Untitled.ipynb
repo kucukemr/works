{
 "cells": [
  {
   "cell_type": "code",
   "execution_count": 1,
   "metadata": {},
   "outputs": [],
   "source": [
    "import pandas as pd\n",
    "import numpy as np"
   ]
  },
  {
   "cell_type": "code",
   "execution_count": 9,
   "metadata": {},
   "outputs": [],
   "source": [
    "images = np.array(pd.read_csv(\"hw03_images.csv\", header = None))\n",
    "labels = np.array(pd.read_csv(\"hw03_labels.csv\", header = None))\n",
    "initial_W = np.array(pd.read_csv(\"initial_W.csv\", header = None))\n",
    "initial_V = np.array(pd.read_csv(\"initial_V.csv\", header = None))\n",
    "eta = 0.0005\n",
    "epsilon = 1e-3\n",
    "max_iteration = 500\n",
    "train_images, test_images = images[0:500], images[500:1000]"
   ]
  },
  {
   "cell_type": "code",
   "execution_count": 6,
   "metadata": {},
   "outputs": [],
   "source": [
    "def sigmoid(X,W):\n",
    "    X = np.append(X, np.full((X.shape[0],1), 1), axis=1)\n",
    "    return 1/(1 + np.exp(-np.matmul(X, W)))"
   ]
  },
  {
   "cell_type": "code",
   "execution_count": 7,
   "metadata": {},
   "outputs": [],
   "source": [
    "def softMax(X, W):\n",
    "    X = np.append(X, np.full((X.shape[0],1), 1), axis=1)\n",
    "    scores = np.matmul(X, W)\n",
    "    scores = np.exp(scores - np.repeat(np.amax(X, axis=1).reshape(X.shape[0],1), scores.shape[1], axis=1))\n",
    "    scores = np.divide(scores, np.repeat(np.sum(X, axis=1).reshape(X.shape[0],1), scores.shape[1], axis=1))\n",
    "    return scores"
   ]
  },
  {
   "cell_type": "code",
   "execution_count": 14,
   "metadata": {},
   "outputs": [],
   "source": [
    "while (max_iteration < 500):\n",
    "    pass"
   ]
  }
 ],
 "metadata": {
  "kernelspec": {
   "display_name": "Python 3",
   "language": "python",
   "name": "python3"
  },
  "language_info": {
   "codemirror_mode": {
    "name": "ipython",
    "version": 3
   },
   "file_extension": ".py",
   "mimetype": "text/x-python",
   "name": "python",
   "nbconvert_exporter": "python",
   "pygments_lexer": "ipython3",
   "version": "3.6.8"
  }
 },
 "nbformat": 4,
 "nbformat_minor": 2
}
